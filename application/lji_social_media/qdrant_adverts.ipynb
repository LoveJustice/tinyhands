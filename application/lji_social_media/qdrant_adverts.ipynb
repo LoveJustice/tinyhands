{
 "cells": [
  {
   "cell_type": "code",
   "execution_count": 1,
   "id": "7ac02f9f-1dae-44ca-abd7-fe8da689942d",
   "metadata": {},
   "outputs": [],
   "source": [
    "import pandas as pd\n",
    "import dotenv"
   ]
  },
  {
   "cell_type": "code",
   "execution_count": 2,
   "id": "404b45f7-5705-47ff-a037-a93b4a88e34f",
   "metadata": {},
   "outputs": [],
   "source": [
    "from llama_index.core import Document\n",
    "from llama_index.core.node_parser import (\n",
    "    HierarchicalNodeParser,\n",
    "    SentenceSplitter,\n",
    ")"
   ]
  },
  {
   "cell_type": "code",
   "execution_count": 3,
   "id": "da59c9c4-2419-422f-a4e4-a756dd0bf01a",
   "metadata": {},
   "outputs": [],
   "source": [
    "from llama_index.core.query_engine import RetrieverQueryEngine\n",
    "from llama_index.core.retrievers import AutoMergingRetriever\n",
    "from llama_index.core import StorageContext\n",
    "from llama_index.llms.openai import OpenAI\n",
    "from llama_index.core.node_parser import get_leaf_nodes, get_root_nodes"
   ]
  },
  {
   "cell_type": "code",
   "execution_count": 4,
   "id": "39754fbe-f715-48fa-a7d7-aaca08a486d2",
   "metadata": {},
   "outputs": [],
   "source": [
    "from llama_index.core import SimpleDirectoryReader\n",
    "from llama_index.core import VectorStoreIndex, ServiceContext, Document\n",
    "from llama_index.core.storage.docstore import SimpleDocumentStore"
   ]
  },
  {
   "cell_type": "code",
   "execution_count": 5,
   "id": "c9d69139-da4f-4173-9696-8a6bf35576ed",
   "metadata": {},
   "outputs": [],
   "source": [
    "from llama_index.vector_stores.qdrant import QdrantVectorStore"
   ]
  },
  {
   "cell_type": "code",
   "execution_count": 6,
   "id": "3142b9cc-3e1a-435b-8ea0-b405890fa8ca",
   "metadata": {},
   "outputs": [],
   "source": [
    "import pandas as pd"
   ]
  },
  {
   "cell_type": "code",
   "execution_count": 7,
   "id": "e50b9fbb-f279-409b-9c95-2e8098ca69c2",
   "metadata": {},
   "outputs": [],
   "source": [
    "import qdrant_client"
   ]
  },
  {
   "cell_type": "code",
   "execution_count": 8,
   "id": "d6b6f8d9-0a8b-49bf-a15e-a5dfd3a4ee21",
   "metadata": {},
   "outputs": [],
   "source": [
    "client = qdrant_client.QdrantClient(path=\"qdrant_adverts\")"
   ]
  },
  {
   "cell_type": "code",
   "execution_count": 185,
   "id": "b1334aed-47b6-4eaf-a2d5-f4aa88417beb",
   "metadata": {},
   "outputs": [],
   "source": [
    "# file_path1 = \"results/advert_comparison_cleaned.csv\"\n",
    "\n",
    "# advert_comparison_cleaned = pd.read_csv(file_path1)\n",
    "\n",
    "redflags = pd.read_csv('results/redflag_model_result_2024-08-15T12:14:35_04754c.csv')\n",
    "documents = [Document(text=row['advert'], metadata = {'IDn':row['IDn']}) for idx,row in redflags.iterrows()]\n",
    "for doc in documents:\n",
    "    doc.id_ = doc.metadata['IDn']"
   ]
  },
  {
   "cell_type": "code",
   "execution_count": 187,
   "id": "0a8f36be-f41e-4790-95d3-06c17902d024",
   "metadata": {},
   "outputs": [
    {
     "data": {
      "text/plain": [
       "Document(id_='573156', embedding=None, metadata={'IDn': 573156}, excluded_embed_metadata_keys=[], excluded_llm_metadata_keys=[], relationships={}, text='DELIVERY DRIVERBecome A Driver PartnerBecome a Driver Partner for Mr D food |takealot.com|superbalist.com!Earn between R5,000 – R12,000 per month or R200 – R350 per deliveryWhat you need for you to qualify: A clear criminal background check.valid South African drivers license. An Android smartphone V6 or higherA South African ID or work permit for foreign nationals.Start you application here:https://tinyurl.com/MrDdriver', mimetype='text/plain', start_char_idx=None, end_char_idx=None, text_template='{metadata_str}\\n\\n{content}', metadata_template='{key}: {value}', metadata_seperator='\\n')"
      ]
     },
     "execution_count": 187,
     "metadata": {},
     "output_type": "execute_result"
    }
   ],
   "source": [
    "documents[20]"
   ]
  },
  {
   "cell_type": "code",
   "execution_count": 188,
   "id": "4ddeec89-bf8e-4143-be33-a213b2048e9f",
   "metadata": {},
   "outputs": [
    {
     "data": {
      "text/plain": [
       "323"
      ]
     },
     "execution_count": 188,
     "metadata": {},
     "output_type": "execute_result"
    }
   ],
   "source": [
    "node_parser = HierarchicalNodeParser.from_defaults()\n",
    "nodes = node_parser.get_nodes_from_documents(documents)\n",
    "len(nodes)"
   ]
  },
  {
   "cell_type": "code",
   "execution_count": 189,
   "id": "e7cb7d83-4056-4f4e-b929-bff1bd687973",
   "metadata": {},
   "outputs": [],
   "source": [
    "docstore = SimpleDocumentStore()\n",
    "docstore.add_documents(nodes)"
   ]
  },
  {
   "cell_type": "code",
   "execution_count": 190,
   "id": "45833e52-704b-4320-b0d9-bc75e82a0ad3",
   "metadata": {},
   "outputs": [],
   "source": [
    "vector_store = QdrantVectorStore(\n",
    "    client=client, collection_name=\"adverts\"\n",
    ")"
   ]
  },
  {
   "cell_type": "code",
   "execution_count": 191,
   "id": "5bbe66af-defb-4061-9b15-8ce39b89ab22",
   "metadata": {},
   "outputs": [],
   "source": [
    "storage_context = StorageContext.from_defaults(vector_store = vector_store, docstore=docstore)"
   ]
  },
  {
   "cell_type": "code",
   "execution_count": 192,
   "id": "803f3cff-6bb4-46ac-92c3-4df4efe68edc",
   "metadata": {},
   "outputs": [
    {
     "data": {
      "text/plain": [
       "123"
      ]
     },
     "execution_count": 192,
     "metadata": {},
     "output_type": "execute_result"
    }
   ],
   "source": [
    "leaf_nodes = get_leaf_nodes(nodes)\n",
    "len(leaf_nodes)"
   ]
  },
  {
   "cell_type": "code",
   "execution_count": 193,
   "id": "48a2937e-7d8e-4df5-9bb8-77424340e9a2",
   "metadata": {},
   "outputs": [
    {
     "data": {
      "text/plain": [
       "100"
      ]
     },
     "execution_count": 193,
     "metadata": {},
     "output_type": "execute_result"
    }
   ],
   "source": [
    "root_nodes = get_root_nodes(nodes)\n",
    "len(root_nodes)"
   ]
  },
  {
   "cell_type": "code",
   "execution_count": 207,
   "id": "b5f4a471-1cfb-4cd2-b816-302f7d72bf1f",
   "metadata": {},
   "outputs": [],
   "source": [
    "llm = OpenAI(model=\"gpt-4o\")\n",
    "## Load index into vector index\n",
    "\n",
    "\n",
    "base_index = VectorStoreIndex(\n",
    "    leaf_nodes,\n",
    "    storage_context=storage_context,\n",
    ")\n",
    "\n",
    "\n",
    "base_retriever = base_index.as_retriever(similarity_top_k=3)"
   ]
  },
  {
   "cell_type": "code",
   "execution_count": 208,
   "id": "e7e2f652-9736-4dbe-beb0-9cee7cc90474",
   "metadata": {},
   "outputs": [],
   "source": [
    "retriever = AutoMergingRetriever(base_retriever, storage_context, verbose=True)"
   ]
  },
  {
   "cell_type": "code",
   "execution_count": 209,
   "id": "a7551f1d-abb8-4574-bc74-4c1d33d38611",
   "metadata": {},
   "outputs": [],
   "source": [
    "prompt=\"\"\"Which documents assure applicants that qualifications or experience are not important? \"\n",
    "        \"Return your analysis  the following list of JSON formats:\"\"\""
   ]
  },
  {
   "cell_type": "code",
   "execution_count": 210,
   "id": "62df3802-8110-4d9b-922c-b37ff5753890",
   "metadata": {},
   "outputs": [],
   "source": [
    "ANALYSIS_STR = \"\"\"['{\"IDn\":IDn,\"result\": \"yes\" or \"no\", \"evidence\": [\"evidence 1\", \"evidence 2\", ...] or \"no evidence\", \"confidence\": 0.0 to 1.0, \"explanation\": \"Brief explanation of your reasoning\"}', '{...}', ...] \"\"\"\n"
   ]
  },
  {
   "cell_type": "code",
   "execution_count": 211,
   "id": "aaed1577-6a89-4d2e-9546-ff966c0aeb0b",
   "metadata": {},
   "outputs": [
    {
     "name": "stdout",
     "output_type": "stream",
     "text": [
      "> Merging 1 nodes into parent node.\n",
      "> Parent node id: b8bf2895-a7f3-47ff-8c88-6d9d0110f564.\n",
      "> Parent node text: There's a certificate called RE5.The certificate is in high demand in South Africa. You don't nee...\n",
      "\n",
      "> Merging 1 nodes into parent node.\n",
      "> Parent node id: b20cd725-0993-494d-a7e3-d4995af21e8d.\n",
      "> Parent node text: There's a certificate called RE5.The certificate is in high demand in South Africa. You don't nee...\n",
      "\n"
     ]
    }
   ],
   "source": [
    "query_engine = RetrieverQueryEngine.from_args(retriever)\n",
    "base_query_engine = RetrieverQueryEngine.from_args(base_retriever)\n",
    "response = query_engine.query(prompt+ANALYSIS_STR)"
   ]
  },
  {
   "cell_type": "code",
   "execution_count": 212,
   "id": "baa89645-814e-4dde-b0c8-4bf7b8a73ead",
   "metadata": {},
   "outputs": [
    {
     "data": {
      "text/plain": [
       "'[\\'{\"IDn\":573452,\"result\":\"yes\",\"evidence\":[\"No certificate wanted\",\"Minimum Requirements: Grade 08/12\",\"Physically fit\",\"Able to work long hours\"],\"confidence\":0.9,\"explanation\":\"The job posting explicitly states that no certificate is wanted and lists minimum requirements that do not include qualifications or experience.\"}\\',\\n\\'{\"IDn\":573444,\"result\":\"yes\",\"evidence\":[\"No certificate wanted\",\"Minimum Requirements: Grade 08/12\",\"Physically fit\",\"Able to work long hours\"],\"confidence\":0.8,\"explanation\":\"Similar to the previous job posting, this one also clearly states that no certificate is required and focuses on other criteria like physical fitness and ability to work long hours.\"}\\']'"
      ]
     },
     "execution_count": 212,
     "metadata": {},
     "output_type": "execute_result"
    }
   ],
   "source": [
    "response.response"
   ]
  },
  {
   "cell_type": "code",
   "execution_count": 40,
   "id": "d9943038-d639-4822-aa95-bc5f20f2c330",
   "metadata": {},
   "outputs": [],
   "source": [
    "from qdrant_client import QdrantClient, models"
   ]
  },
  {
   "cell_type": "code",
   "execution_count": 43,
   "id": "fda66518-4158-457e-8c9c-6fe90ee65638",
   "metadata": {},
   "outputs": [],
   "source": [
    "scroll_filter=models.Filter(\n",
    "        must=[\n",
    "            models.FieldCondition(\n",
    "                key=\"city\",\n",
    "                match=models.MatchValue(value=\"London\"),\n",
    "            ),\n",
    "            models.FieldCondition(\n",
    "                key=\"color\",\n",
    "                match=models.MatchValue(value=\"red\"),\n",
    "            ),\n",
    "        ]\n",
    "    ),"
   ]
  },
  {
   "cell_type": "code",
   "execution_count": 89,
   "id": "8a6c1870-f0d3-4647-ac33-68ec373df28e",
   "metadata": {},
   "outputs": [
    {
     "data": {
      "text/plain": [
       "36"
      ]
     },
     "execution_count": 89,
     "metadata": {},
     "output_type": "execute_result"
    }
   ],
   "source": [
    "len(search_result[0])"
   ]
  },
  {
   "cell_type": "code",
   "execution_count": null,
   "id": "5b6fd59b-9fc7-47a0-9b9c-f1e2a8fc6d66",
   "metadata": {},
   "outputs": [],
   "source": [
    "search_result = client.scroll(\n",
    "    collection_name=\"adverts\",limit=50\n",
    ")\n",
    "print(search_result)"
   ]
  },
  {
   "cell_type": "code",
   "execution_count": null,
   "id": "b20ea34a-9305-4336-ac22-28d00a093875",
   "metadata": {},
   "outputs": [],
   "source": [
    "redflags = pd.read_csv('results/redflag_model_result_2024-08-15T12:14:35_04754c.csv')\n",
    "\n",
    "documents = [Document(text=row['advert'], metadata = {'doc_id':row['IDn'],'IDn':row['IDn']}) for idx,row in redflags[:2].iterrows()]"
   ]
  },
  {
   "cell_type": "code",
   "execution_count": 96,
   "id": "41d691b3-f449-46a5-99ea-da04670751ba",
   "metadata": {},
   "outputs": [
    {
     "data": {
      "text/plain": [
       "2"
      ]
     },
     "execution_count": 96,
     "metadata": {},
     "output_type": "execute_result"
    }
   ],
   "source": [
    "len(documents)"
   ]
  },
  {
   "cell_type": "code",
   "execution_count": 178,
   "id": "549071da-6bd0-4327-8c03-54bebbf081e3",
   "metadata": {},
   "outputs": [
    {
     "data": {
      "text/plain": [
       "'1'"
      ]
     },
     "execution_count": 178,
     "metadata": {},
     "output_type": "execute_result"
    }
   ],
   "source": [
    "documents[0].id_"
   ]
  },
  {
   "cell_type": "code",
   "execution_count": 97,
   "id": "ef4e9a56-233b-453e-956f-c314e332612c",
   "metadata": {},
   "outputs": [
    {
     "data": {
      "text/plain": [
       "7"
      ]
     },
     "execution_count": 97,
     "metadata": {},
     "output_type": "execute_result"
    }
   ],
   "source": [
    "node_parser = HierarchicalNodeParser.from_defaults()\n",
    "nodes = node_parser.get_nodes_from_documents(documents)\n",
    "len(nodes)"
   ]
  },
  {
   "cell_type": "code",
   "execution_count": 99,
   "id": "2c01749c-fb80-4f9d-92d8-c6854a6401a2",
   "metadata": {},
   "outputs": [],
   "source": [
    "base_index.insert_nodes(nodes)"
   ]
  },
  {
   "cell_type": "code",
   "execution_count": 90,
   "id": "4de9e204-b3f5-4810-a633-6917529c6018",
   "metadata": {},
   "outputs": [],
   "source": [
    "filter = {\"must\": [{\"key\": \"IDn\", \"match\": {\"value\": 572469}}]}"
   ]
  },
  {
   "cell_type": "code",
   "execution_count": 109,
   "id": "4a64b4e0-246c-4027-b76b-dd6d41eff0f1",
   "metadata": {},
   "outputs": [],
   "source": [
    "base_index.delete_ref_doc(ref_doc_id='3cfb8a6b-86bd-4c53-bb96-0f4dff6efa20')"
   ]
  },
  {
   "cell_type": "code",
   "execution_count": 112,
   "id": "5b47142e-2f09-42e3-869d-99c493aaef0e",
   "metadata": {},
   "outputs": [],
   "source": [
    "f=base_index.from_documents(documents)"
   ]
  },
  {
   "cell_type": "code",
   "execution_count": 116,
   "id": "65acf57c-080f-49f9-94d8-40eacf17c601",
   "metadata": {},
   "outputs": [
    {
     "ename": "TypeError",
     "evalue": "delete() missing 1 required positional argument: 'doc_id'",
     "output_type": "error",
     "traceback": [
      "\u001b[0;31m---------------------------------------------------------------------------\u001b[0m",
      "\u001b[0;31mTypeError\u001b[0m                                 Traceback (most recent call last)",
      "Cell \u001b[0;32mIn[116], line 1\u001b[0m\n\u001b[0;32m----> 1\u001b[0m \u001b[43mbase_index\u001b[49m\u001b[38;5;241;43m.\u001b[39;49m\u001b[43mdelete\u001b[49m\u001b[43m(\u001b[49m\u001b[43m)\u001b[49m\n",
      "\u001b[0;31mTypeError\u001b[0m: delete() missing 1 required positional argument: 'doc_id'"
     ]
    }
   ],
   "source": [
    "base_index.delete()"
   ]
  },
  {
   "cell_type": "code",
   "execution_count": null,
   "id": "2be4782f-02f6-4113-899d-000a685ca64e",
   "metadata": {},
   "outputs": [],
   "source": [
    "def delete_vectors_by_source_document(client, collection_namesource_document_id: str, **kwargs: Any) -> None:\n",
    "    \"\"\"Delete vectors from the collection associated with a specific source document.\n",
    "\n",
    "    Args:\n",
    "        source_document_id: The ID of the source document whose associated vectors should be deleted.\n",
    "    \"\"\"\n",
    "    filter = {\"must\": [{\"key\": \"source_document_id\", \"match\": {\"value\": source_document_id}}]}\n",
    "    self.client.delete(collection_name=self.collection_name, filter=filter, **kwargs)"
   ]
  },
  {
   "cell_type": "code",
   "execution_count": 125,
   "id": "6d323e13-a22b-4e8e-8fe5-fae0a2ee7a93",
   "metadata": {},
   "outputs": [
    {
     "ename": "TypeError",
     "evalue": "search() missing 1 required positional argument: 'query_vector'",
     "output_type": "error",
     "traceback": [
      "\u001b[0;31m---------------------------------------------------------------------------\u001b[0m",
      "\u001b[0;31mTypeError\u001b[0m                                 Traceback (most recent call last)",
      "Cell \u001b[0;32mIn[125], line 3\u001b[0m\n\u001b[1;32m      1\u001b[0m \u001b[38;5;28;01mfrom\u001b[39;00m \u001b[38;5;21;01mqdrant_client\u001b[39;00m\u001b[38;5;21;01m.\u001b[39;00m\u001b[38;5;21;01mmodels\u001b[39;00m \u001b[38;5;28;01mimport\u001b[39;00m Filter, FieldCondition, Range\n\u001b[0;32m----> 3\u001b[0m hits \u001b[38;5;241m=\u001b[39m \u001b[43mclient\u001b[49m\u001b[38;5;241;43m.\u001b[39;49m\u001b[43msearch\u001b[49m\u001b[43m(\u001b[49m\n\u001b[1;32m      4\u001b[0m \u001b[43m    \u001b[49m\u001b[43mcollection_name\u001b[49m\u001b[38;5;241;43m=\u001b[39;49m\u001b[38;5;124;43m\"\u001b[39;49m\u001b[38;5;124;43madverts\u001b[39;49m\u001b[38;5;124;43m\"\u001b[39;49m\u001b[43m,\u001b[49m\n\u001b[1;32m      5\u001b[0m \u001b[43m    \u001b[49m\u001b[38;5;66;43;03m# query_vector=query_vector,\u001b[39;49;00m\n\u001b[1;32m      6\u001b[0m \u001b[43m    \u001b[49m\u001b[43mquery_filter\u001b[49m\u001b[38;5;241;43m=\u001b[39;49m\u001b[43mFilter\u001b[49m\u001b[43m(\u001b[49m\n\u001b[1;32m      7\u001b[0m \u001b[43m        \u001b[49m\u001b[43mmust\u001b[49m\u001b[38;5;241;43m=\u001b[39;49m\u001b[43m[\u001b[49m\u001b[43m  \u001b[49m\u001b[38;5;66;43;03m# These conditions are required for search results\u001b[39;49;00m\n\u001b[1;32m      8\u001b[0m \u001b[43m            \u001b[49m\u001b[43mFieldCondition\u001b[49m\u001b[43m(\u001b[49m\n\u001b[1;32m      9\u001b[0m \u001b[43m                \u001b[49m\u001b[43mkey\u001b[49m\u001b[38;5;241;43m=\u001b[39;49m\u001b[38;5;124;43m'\u001b[39;49m\u001b[38;5;124;43mrand_number\u001b[39;49m\u001b[38;5;124;43m'\u001b[39;49m\u001b[43m,\u001b[49m\u001b[43m  \u001b[49m\u001b[38;5;66;43;03m# Condition based on values of `rand_number` field.\u001b[39;49;00m\n\u001b[1;32m     10\u001b[0m \u001b[43m                \u001b[49m\u001b[38;5;28;43mrange\u001b[39;49m\u001b[38;5;241;43m=\u001b[39;49m\u001b[43mRange\u001b[49m\u001b[43m(\u001b[49m\n\u001b[1;32m     11\u001b[0m \u001b[43m                    \u001b[49m\u001b[43mgte\u001b[49m\u001b[38;5;241;43m=\u001b[39;49m\u001b[38;5;241;43m3\u001b[39;49m\u001b[43m  \u001b[49m\u001b[38;5;66;43;03m# Select only those results where `rand_number` >= 3\u001b[39;49;00m\n\u001b[1;32m     12\u001b[0m \u001b[43m                \u001b[49m\u001b[43m)\u001b[49m\n\u001b[1;32m     13\u001b[0m \u001b[43m            \u001b[49m\u001b[43m)\u001b[49m\n\u001b[1;32m     14\u001b[0m \u001b[43m        \u001b[49m\u001b[43m]\u001b[49m\n\u001b[1;32m     15\u001b[0m \u001b[43m    \u001b[49m\u001b[43m)\u001b[49m\u001b[43m,\u001b[49m\n\u001b[1;32m     16\u001b[0m \u001b[43m    \u001b[49m\u001b[43mlimit\u001b[49m\u001b[38;5;241;43m=\u001b[39;49m\u001b[38;5;241;43m5\u001b[39;49m\u001b[43m  \u001b[49m\u001b[38;5;66;43;03m# Return 5 closest points\u001b[39;49;00m\n\u001b[1;32m     17\u001b[0m \u001b[43m)\u001b[49m\n",
      "\u001b[0;31mTypeError\u001b[0m: search() missing 1 required positional argument: 'query_vector'"
     ]
    }
   ],
   "source": [
    "from qdrant_client.models import Filter, FieldCondition, Range\n",
    "\n",
    "hits = client.search(\n",
    "    collection_name=\"adverts\",\n",
    "    query_vector=query_vector,\n",
    "    query_filter=Filter(\n",
    "        must=[  # These conditions are required for search results\n",
    "            FieldCondition(\n",
    "                key='rand_number',  # Condition based on values of `rand_number` field.\n",
    "                range=Range(\n",
    "                    gte=3  # Select only those results where `rand_number` >= 3\n",
    "                )\n",
    "            )\n",
    "        ]\n",
    "    ),\n",
    "    limit=5  # Return 5 closest points\n",
    ")"
   ]
  },
  {
   "cell_type": "code",
   "execution_count": null,
   "id": "6a7944fd-f3fe-4bdc-8045-f8d309974947",
   "metadata": {},
   "outputs": [],
   "source": [
    "dir(doc)"
   ]
  },
  {
   "cell_type": "code",
   "execution_count": 163,
   "id": "2e487abc-552f-4dac-9215-39564e1f88e8",
   "metadata": {},
   "outputs": [],
   "source": [
    "storage_context.docstore.delete_document(doc_id = doc.id_)"
   ]
  },
  {
   "cell_type": "code",
   "execution_count": null,
   "id": "3192e153-053e-47a1-b7ec-bc05fc3a0af5",
   "metadata": {},
   "outputs": [],
   "source": [
    "dir(storage_context.docstore)"
   ]
  },
  {
   "cell_type": "code",
   "execution_count": 167,
   "id": "55effde5-c6bc-4b25-80f7-abd3cbbe5d53",
   "metadata": {},
   "outputs": [
    {
     "data": {
      "text/plain": [
       "0"
      ]
     },
     "execution_count": 167,
     "metadata": {},
     "output_type": "execute_result"
    }
   ],
   "source": [
    "len(storage_context.docstore.docs.values())"
   ]
  },
  {
   "cell_type": "code",
   "execution_count": null,
   "id": "b81c9f71-1df3-4212-9786-5cc8f9361b4b",
   "metadata": {},
   "outputs": [],
   "source": [
    "dir(doc)"
   ]
  },
  {
   "cell_type": "markdown",
   "id": "c40a4cbc-1c8f-4bbb-8624-468fc9e3de6c",
   "metadata": {},
   "source": [
    "## Delete all docs:"
   ]
  },
  {
   "cell_type": "code",
   "execution_count": 166,
   "id": "ae0edc5f-5ddc-494d-9fba-2bd19f8fe301",
   "metadata": {},
   "outputs": [],
   "source": [
    "for doc in storage_context.docstore.docs.values():\n",
    "    print(doc)\n",
    "    storage_context.docstore.delete_document(doc_id = doc.id_)\n",
    "    "
   ]
  },
  {
   "cell_type": "code",
   "execution_count": 172,
   "id": "4b1fa821-31fc-40a4-979b-66bce66a7df1",
   "metadata": {},
   "outputs": [
    {
     "data": {
      "text/plain": [
       "{}"
      ]
     },
     "execution_count": 172,
     "metadata": {},
     "output_type": "execute_result"
    }
   ],
   "source": [
    "storage_context.docstore.get_all_ref_doc_info()"
   ]
  },
  {
   "cell_type": "code",
   "execution_count": 170,
   "id": "af3dc54f-2082-405b-adb5-02f28062457e",
   "metadata": {},
   "outputs": [
    {
     "data": {
      "text/plain": [
       "['__annotations__',\n",
       " '__class__',\n",
       " '__dataclass_fields__',\n",
       " '__dataclass_params__',\n",
       " '__delattr__',\n",
       " '__dict__',\n",
       " '__dir__',\n",
       " '__doc__',\n",
       " '__eq__',\n",
       " '__format__',\n",
       " '__ge__',\n",
       " '__getattribute__',\n",
       " '__gt__',\n",
       " '__hash__',\n",
       " '__init__',\n",
       " '__init_subclass__',\n",
       " '__le__',\n",
       " '__lt__',\n",
       " '__module__',\n",
       " '__ne__',\n",
       " '__new__',\n",
       " '__reduce__',\n",
       " '__reduce_ex__',\n",
       " '__repr__',\n",
       " '__setattr__',\n",
       " '__sizeof__',\n",
       " '__str__',\n",
       " '__subclasshook__',\n",
       " '__weakref__',\n",
       " 'add_vector_store',\n",
       " 'docstore',\n",
       " 'from_defaults',\n",
       " 'from_dict',\n",
       " 'graph_store',\n",
       " 'index_store',\n",
       " 'persist',\n",
       " 'property_graph_store',\n",
       " 'to_dict',\n",
       " 'vector_store',\n",
       " 'vector_stores']"
      ]
     },
     "execution_count": 170,
     "metadata": {},
     "output_type": "execute_result"
    }
   ],
   "source": [
    "dir(storage_context)"
   ]
  },
  {
   "cell_type": "code",
   "execution_count": null,
   "id": "39de9f54-6da7-4ff9-aae1-42151bfb1820",
   "metadata": {},
   "outputs": [],
   "source": []
  }
 ],
 "metadata": {
  "kernelspec": {
   "display_name": "Python 3 (ipykernel)",
   "language": "python",
   "name": "python3"
  },
  "language_info": {
   "codemirror_mode": {
    "name": "ipython",
    "version": 3
   },
   "file_extension": ".py",
   "mimetype": "text/x-python",
   "name": "python",
   "nbconvert_exporter": "python",
   "pygments_lexer": "ipython3",
   "version": "3.9.12"
  }
 },
 "nbformat": 4,
 "nbformat_minor": 5
}
