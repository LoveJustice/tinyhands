{
 "cells": [
  {
   "cell_type": "code",
   "execution_count": null,
   "id": "0",
   "metadata": {},
   "outputs": [],
   "source": [
    "from llama_index.core.memory import ChatMemoryBuffer\n",
    "from llama_index.core import download_loader\n",
    "from llama_index.core import VectorStoreIndex, ServiceContext, Document, StorageContext\n",
    "from llama_index.llms.openai import OpenAI\n",
    "from llama_index.llms.ollama import Ollama"
   ]
  },
  {
   "cell_type": "code",
   "execution_count": null,
   "id": "1",
   "metadata": {},
   "outputs": [],
   "source": [
    "import pandas as pd\n",
    "from typing import Any, Dict\n",
    "import logging\n",
    "import json"
   ]
  },
  {
   "cell_type": "code",
   "execution_count": null,
   "id": "2",
   "metadata": {},
   "outputs": [],
   "source": [
    "import llm_functions as lf"
   ]
  },
  {
   "cell_type": "code",
   "execution_count": null,
   "id": "3",
   "metadata": {},
   "outputs": [],
   "source": [
    "import sys\n",
    "sys.path.append('../libraries/')"
   ]
  },
  {
   "cell_type": "code",
   "execution_count": null,
   "id": "4",
   "metadata": {},
   "outputs": [],
   "source": [
    "import neo4j_lib as nl\n",
    "import claude_prompts as cp"
   ]
  },
  {
   "cell_type": "code",
   "execution_count": null,
   "id": "5",
   "metadata": {},
   "outputs": [],
   "source": [
    "logging.basicConfig(level=logging.INFO)\n",
    "logger = logging.getLogger(__name__)"
   ]
  },
  {
   "cell_type": "code",
   "execution_count": null,
   "id": "6",
   "metadata": {},
   "outputs": [],
   "source": [
    "MEMORY = ChatMemoryBuffer.from_defaults(token_limit=8192)\n",
    "llm = OpenAI(temperature=0, model=\"gpt-4o\", max_tokens=4096)\n",
    "llm = Ollama(model=\"llama3.1:latest\", temperature=0, max_tokens=8192, request_timeout=120.0)"
   ]
  },
  {
   "cell_type": "code",
   "execution_count": null,
   "id": "7",
   "metadata": {},
   "outputs": [],
   "source": [
    "def create_chat_engine(advert):\n",
    "    \n",
    "    if advert:\n",
    "        documents = [Document(text=advert)]\n",
    "\n",
    "        index = VectorStoreIndex.from_documents(documents)\n",
    "        return index.as_chat_engine(\n",
    "            chat_mode=\"context\",\n",
    "            llm=llm,\n",
    "            memory=MEMORY,\n",
    "            system_prompt=(\n",
    "                \"A a career forensic analyst you have deep insight into crime and criminal activity especially human trafficking.  \"\n",
    "                \"Your express goal is to investigate online recruitment advert and extract pertinent factual detail.\"\n",
    "            ),\n",
    "        )\n",
    "    else:\n",
    "        st.error(f\"Failed to extract text from URL: {advert}\")\n",
    "        return None"
   ]
  },
  {
   "cell_type": "code",
   "execution_count": null,
   "id": "8",
   "metadata": {},
   "outputs": [],
   "source": [
    "\n",
    "def analyse_advert(chat_engine: Any, advert: str, prompt_name: str) -> Dict[str, Any]:\n",
    "    \"\"\"\n",
    "    Analyze an advertisement using a chat engine and a specific prompt.\n",
    "\n",
    "    Args:\n",
    "        chat_engine: The chat engine to use for analysis.\n",
    "        advert: The advertisement text to analyze.\n",
    "        prompt_name: The name of the prompt to use.\n",
    "\n",
    "    Returns:\n",
    "        A dictionary containing the analysis results, or a default dictionary if analysis fails.\n",
    "    \"\"\"\n",
    "    if not chat_engine:\n",
    "        logger.error(\"Chat engine is not initialized\")\n",
    "        return {\n",
    "            \"result\": \"error\",\n",
    "            \"evidence\": [],\n",
    "            \"explanation\": \"Chat engine not initialized\",\n",
    "            \"confidence\": 0.0,\n",
    "        }\n",
    "\n",
    "    try:\n",
    "        prompt = cp.CLAUDE_PROMPTS.get(prompt_name) + cp.ANALYSIS_STR\n",
    "        if not prompt:\n",
    "            raise ValueError(f\"Invalid prompt name: {prompt_name}\")\n",
    "\n",
    "        response = chat_engine.chat(prompt + cp.ANALYSIS_STR)\n",
    "        logger.info(f\"Response to {prompt_name}: {response.response}\")\n",
    "\n",
    "        # Extract and parse JSON from the response\n",
    "        json_str = response.response.strip(\"`\").strip()\n",
    "        if json_str.startswith(\"json\"):\n",
    "            json_str = json_str[4:]  # Remove 'json' prefix if present\n",
    "        parsed_response = json.loads(json_str)\n",
    "\n",
    "        analysis_response = nl.AnalysisResponse(**parsed_response)\n",
    "        # Standardize the output\n",
    "        return analysis_response\n",
    "\n",
    "    except Exception as e:\n",
    "        logger.error(f\"Error processing advert, prompt {prompt_name}: {str(e)}\")\n",
    "        return {\n",
    "            \"result\": \"error\",\n",
    "            \"evidence\": [],\n",
    "            \"explanation\": str(e),\n",
    "            \"confidence\": 0.0,\n",
    "        }\n"
   ]
  },
  {
   "cell_type": "code",
   "execution_count": null,
   "id": "9",
   "metadata": {},
   "outputs": [],
   "source": [
    "\n",
    "def analyse_advert_with_prompt(chat_engine: Any, advert: str, prompt: str) -> Dict[str, Any]:\n",
    "    \"\"\"\n",
    "    Analyze an advertisement using a chat engine and a specific prompt.\n",
    "\n",
    "    Args:\n",
    "        chat_engine: The chat engine to use for analysis.\n",
    "        advert: The advertisement text to analyze.\n",
    "        prompt_name: The name of the prompt to use.\n",
    "\n",
    "    Returns:\n",
    "        A dictionary containing the analysis results, or a default dictionary if analysis fails.\n",
    "    \"\"\"\n",
    "    if not chat_engine:\n",
    "        logger.error(\"Chat engine is not initialized\")\n",
    "        return {\n",
    "            \"result\": \"error\",\n",
    "            \"evidence\": [],\n",
    "            \"explanation\": \"Chat engine not initialized\",\n",
    "            \"confidence\": 0.0,\n",
    "        }\n",
    "\n",
    "    try:\n",
    "        complete_prompt = prompt + cp.ANALYSIS_STR\n",
    "        if not prompt:\n",
    "            raise ValueError(f\"Invalid prompt name: {prompt_name}\")\n",
    "\n",
    "        response = chat_engine.chat(complete_prompt)\n",
    "        logger.info(f\"Response to {prompt_name}: {response.response}\")\n",
    "\n",
    "        # Extract and parse JSON from the response\n",
    "        json_str = response.response.strip(\"`\").strip()\n",
    "        if json_str.startswith(\"json\"):\n",
    "            json_str = json_str[4:]  # Remove 'json' prefix if present\n",
    "        parsed_response = json.loads(json_str)\n",
    "\n",
    "        analysis_response = nl.AnalysisResponse(**parsed_response)\n",
    "        # Standardize the output\n",
    "        return analysis_response\n",
    "\n",
    "    except Exception as e:\n",
    "        logger.error(f\"Error processing advert, prompt {prompt_name}: {str(e)}\")\n",
    "        return {\n",
    "            \"result\": \"error\",\n",
    "            \"evidence\": [],\n",
    "            \"explanation\": str(e),\n",
    "            \"confidence\": 0.0,\n",
    "        }\n"
   ]
  },
  {
   "cell_type": "code",
   "execution_count": null,
   "id": "10",
   "metadata": {},
   "outputs": [],
   "source": [
    "unprofessional_writing_prompt = (\n",
    "        \"Analyze the following job advertisement for signs of unprofessional writing such as poor grammar or spelling. \"\n",
    "        \"Accept that missing spaces or words not separated by a space or spaces in the text, such as 'andcleaners', 'towork', is NOT a sign of unprofessional writing. \"\n",
    "        \"Return your analysis in the following JSON format:\"\n",
    "    ),"
   ]
  },
  {
   "cell_type": "code",
   "execution_count": null,
   "id": "11",
   "metadata": {},
   "outputs": [],
   "source": [
    "prompt_name = \"assure_prompt\"\n",
    "query = \"\"\"\n",
    "MATCH (g:Group)-[:HAS_POSTING]-(posting:Posting)-[has_analysis:HAS_ANALYSIS {type: $prompt_name}]-(analysis:Analysis)\n",
    "WHERE analysis.result = 'yes'\n",
    "RETURN ID(g) AS groupIDn, g.name AS group_name, ID(posting) AS IDn, posting.post_url as url, posting.post_id AS post_id, posting.text AS advert, analysis.result as verdict, analysis.explanation as explanation\n",
    "\"\"\"\n",
    "parameters = {\"prompt_name\": prompt_name}\n",
    "adverts = pd.DataFrame(nl.execute_neo4j_query(query, parameters))"
   ]
  },
  {
   "cell_type": "code",
   "execution_count": null,
   "id": "12",
   "metadata": {},
   "outputs": [],
   "source": [
    "adverts.loc[0]['url'], adverts.loc[0]['IDn'], adverts.loc[0]['group_name']"
   ]
  },
  {
   "cell_type": "code",
   "execution_count": null,
   "id": "13",
   "metadata": {},
   "outputs": [],
   "source": [
    "adverts.loc[0]['explanation']"
   ]
  },
  {
   "cell_type": "code",
   "execution_count": null,
   "id": "14",
   "metadata": {},
   "outputs": [],
   "source": [
    "IDn = 573388\n",
    "advert = nl.get_neo4j_advert(IDn)"
   ]
  },
  {
   "cell_type": "code",
   "execution_count": null,
   "id": "15",
   "metadata": {},
   "outputs": [],
   "source": [
    "advert"
   ]
  },
  {
   "cell_type": "code",
   "execution_count": null,
   "id": "16",
   "metadata": {},
   "outputs": [],
   "source": [
    "chat_engine = create_chat_engine(advert)"
   ]
  },
  {
   "cell_type": "code",
   "execution_count": null,
   "id": "17",
   "metadata": {},
   "outputs": [],
   "source": []
  },
  {
   "cell_type": "code",
   "execution_count": null,
   "id": "18",
   "metadata": {},
   "outputs": [],
   "source": [
    "advert_analysis = analyse_advert(chat_engine, advert, 'assure_prompt')"
   ]
  },
  {
   "cell_type": "code",
   "execution_count": null,
   "id": "19",
   "metadata": {},
   "outputs": [],
   "source": [
    "prompt =  cp.CLAUDE_PROMPTS.get(prompt_name)"
   ]
  },
  {
   "cell_type": "code",
   "execution_count": null,
   "id": "20",
   "metadata": {},
   "outputs": [],
   "source": [
    "advert_analysis =  analyse_advert_with_prompt(chat_engine, advert, prompt)"
   ]
  },
  {
   "cell_type": "code",
   "execution_count": null,
   "id": "21",
   "metadata": {},
   "outputs": [],
   "source": [
    "advert_analysis"
   ]
  },
  {
   "cell_type": "code",
   "execution_count": null,
   "id": "22",
   "metadata": {},
   "outputs": [],
   "source": [
    "unprofessional_writing_prompt[0]"
   ]
  },
  {
   "cell_type": "code",
   "execution_count": null,
   "id": "23",
   "metadata": {},
   "outputs": [],
   "source": []
  },
  {
   "cell_type": "code",
   "execution_count": null,
   "id": "24",
   "metadata": {},
   "outputs": [],
   "source": [
    "llm = Ollama(model=\"llama3.1\", temperature=0, max_tokens=8192)"
   ]
  },
  {
   "cell_type": "code",
   "execution_count": null,
   "id": "25",
   "metadata": {},
   "outputs": [],
   "source": [
    "llm = Ollama(model=\"llama3.1:latest\", temperature=0, max_tokens=8192, request_timeout=120.0)"
   ]
  },
  {
   "cell_type": "code",
   "execution_count": null,
   "id": "26",
   "metadata": {},
   "outputs": [],
   "source": []
  }
 ],
 "metadata": {
  "kernelspec": {
   "display_name": "Python 3 (ipykernel)",
   "language": "python",
   "name": "python3"
  },
  "language_info": {
   "codemirror_mode": {
    "name": "ipython",
    "version": 3
   },
   "file_extension": ".py",
   "mimetype": "text/x-python",
   "name": "python",
   "nbconvert_exporter": "python",
   "pygments_lexer": "ipython3",
   "version": "3.9.12"
  }
 },
 "nbformat": 4,
 "nbformat_minor": 5
}
