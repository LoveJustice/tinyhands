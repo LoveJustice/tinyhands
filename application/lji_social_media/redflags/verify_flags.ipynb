{
 "cells": [
  {
   "cell_type": "code",
   "execution_count": 1,
   "id": "a2d2a75a-2c30-4706-b8c3-e2185ce195eb",
   "metadata": {},
   "outputs": [],
   "source": [
    "from llama_index.core.memory import ChatMemoryBuffer\n",
    "from llama_index.core import download_loader\n",
    "from llama_index.core import VectorStoreIndex, ServiceContext, Document, StorageContext\n",
    "from llama_index.llms.openai import OpenAI\n",
    "from llama_index.llms.ollama import Ollama"
   ]
  },
  {
   "cell_type": "code",
   "execution_count": 2,
   "id": "8a10efb7-3604-41d2-a83c-8ec6276851fb",
   "metadata": {},
   "outputs": [],
   "source": [
    "import pandas as pd\n",
    "from typing import Any, Dict\n",
    "import logging\n",
    "import json"
   ]
  },
  {
   "cell_type": "code",
   "execution_count": 3,
   "id": "4d9a3938-a4ea-4cb6-b64e-58d45e8f7e8f",
   "metadata": {},
   "outputs": [],
   "source": [
    "import sys\n",
    "sys.path.append('../libraries/')"
   ]
  },
  {
   "cell_type": "code",
   "execution_count": 4,
   "id": "691001f4-16b8-44df-a3ac-7f577640f43e",
   "metadata": {},
   "outputs": [],
   "source": [
    "import neo4j_lib as nl\n",
    "import claude_prompts as cp"
   ]
  },
  {
   "cell_type": "code",
   "execution_count": 5,
   "id": "843f8378-32b7-4947-b924-f7055167528d",
   "metadata": {},
   "outputs": [],
   "source": [
    "logging.basicConfig(level=logging.INFO)\n",
    "logger = logging.getLogger(__name__)"
   ]
  },
  {
   "cell_type": "code",
   "execution_count": 7,
   "id": "a9d6609a-392b-41a9-8909-28f78643252a",
   "metadata": {},
   "outputs": [],
   "source": [
    "MEMORY = ChatMemoryBuffer.from_defaults(token_limit=8192)\n",
    "llm = OpenAI(temperature=0, model=\"gpt-4o\", max_tokens=4096)\n",
    "llm = Ollama(model=\"llama3.1:latest\", temperature=0, max_tokens=8192, request_timeout=120.0)"
   ]
  },
  {
   "cell_type": "code",
   "execution_count": 8,
   "id": "692834a3-aae6-444a-bd92-a38ad363b4e7",
   "metadata": {},
   "outputs": [],
   "source": [
    "def create_chat_engine(advert):\n",
    "    \n",
    "    if advert:\n",
    "        documents = [Document(text=advert)]\n",
    "\n",
    "        index = VectorStoreIndex.from_documents(documents)\n",
    "        return index.as_chat_engine(\n",
    "            chat_mode=\"context\",\n",
    "            llm=llm,\n",
    "            memory=MEMORY,\n",
    "            system_prompt=(\n",
    "                \"A a career forensic analyst you have deep insight into crime and criminal activity especially human trafficking.  \"\n",
    "                \"Your express goal is to investigate online recruitment advert and extract pertinent factual detail.\"\n",
    "            ),\n",
    "        )\n",
    "    else:\n",
    "        st.error(f\"Failed to extract text from URL: {advert}\")\n",
    "        return None"
   ]
  },
  {
   "cell_type": "code",
   "execution_count": 19,
   "id": "f2b2dc9b-bc64-4e9a-8b94-ca8e441d3bd9",
   "metadata": {},
   "outputs": [],
   "source": [
    "\n",
    "def analyse_advert(chat_engine: Any, advert: str, prompt_name: str) -> Dict[str, Any]:\n",
    "    \"\"\"\n",
    "    Analyze an advertisement using a chat engine and a specific prompt.\n",
    "\n",
    "    Args:\n",
    "        chat_engine: The chat engine to use for analysis.\n",
    "        advert: The advertisement text to analyze.\n",
    "        prompt_name: The name of the prompt to use.\n",
    "\n",
    "    Returns:\n",
    "        A dictionary containing the analysis results, or a default dictionary if analysis fails.\n",
    "    \"\"\"\n",
    "    if not chat_engine:\n",
    "        logger.error(\"Chat engine is not initialized\")\n",
    "        return {\n",
    "            \"result\": \"error\",\n",
    "            \"evidence\": [],\n",
    "            \"explanation\": \"Chat engine not initialized\",\n",
    "            \"confidence\": 0.0,\n",
    "        }\n",
    "\n",
    "    try:\n",
    "        prompt = cp.CLAUDE_PROMPTS.get(prompt_name) + cp.ANALYSIS_STR\n",
    "        if not prompt:\n",
    "            raise ValueError(f\"Invalid prompt name: {prompt_name}\")\n",
    "\n",
    "        response = chat_engine.chat(prompt + cp.ANALYSIS_STR)\n",
    "        logger.info(f\"Response to {prompt_name}: {response.response}\")\n",
    "\n",
    "        # Extract and parse JSON from the response\n",
    "        json_str = response.response.strip(\"`\").strip()\n",
    "        if json_str.startswith(\"json\"):\n",
    "            json_str = json_str[4:]  # Remove 'json' prefix if present\n",
    "        parsed_response = json.loads(json_str)\n",
    "\n",
    "        analysis_response = nl.AnalysisResponse(**parsed_response)\n",
    "        # Standardize the output\n",
    "        return analysis_response\n",
    "\n",
    "    except Exception as e:\n",
    "        logger.error(f\"Error processing advert, prompt {prompt_name}: {str(e)}\")\n",
    "        return {\n",
    "            \"result\": \"error\",\n",
    "            \"evidence\": [],\n",
    "            \"explanation\": str(e),\n",
    "            \"confidence\": 0.0,\n",
    "        }\n"
   ]
  },
  {
   "cell_type": "code",
   "execution_count": 25,
   "id": "595b5c82-3ca0-4c04-86bb-1cd915846451",
   "metadata": {},
   "outputs": [],
   "source": [
    "\n",
    "def analyse_advert_with_prompt(chat_engine: Any, advert: str, prompt: str) -> Dict[str, Any]:\n",
    "    \"\"\"\n",
    "    Analyze an advertisement using a chat engine and a specific prompt.\n",
    "\n",
    "    Args:\n",
    "        chat_engine: The chat engine to use for analysis.\n",
    "        advert: The advertisement text to analyze.\n",
    "        prompt_name: The name of the prompt to use.\n",
    "\n",
    "    Returns:\n",
    "        A dictionary containing the analysis results, or a default dictionary if analysis fails.\n",
    "    \"\"\"\n",
    "    if not chat_engine:\n",
    "        logger.error(\"Chat engine is not initialized\")\n",
    "        return {\n",
    "            \"result\": \"error\",\n",
    "            \"evidence\": [],\n",
    "            \"explanation\": \"Chat engine not initialized\",\n",
    "            \"confidence\": 0.0,\n",
    "        }\n",
    "\n",
    "    try:\n",
    "        complete_prompt = prompt + cp.ANALYSIS_STR\n",
    "        if not prompt:\n",
    "            raise ValueError(f\"Invalid prompt name: {prompt_name}\")\n",
    "\n",
    "        response = chat_engine.chat(complete_prompt)\n",
    "        logger.info(f\"Response to {prompt_name}: {response.response}\")\n",
    "\n",
    "        # Extract and parse JSON from the response\n",
    "        json_str = response.response.strip(\"`\").strip()\n",
    "        if json_str.startswith(\"json\"):\n",
    "            json_str = json_str[4:]  # Remove 'json' prefix if present\n",
    "        parsed_response = json.loads(json_str)\n",
    "\n",
    "        analysis_response = nl.AnalysisResponse(**parsed_response)\n",
    "        # Standardize the output\n",
    "        return analysis_response\n",
    "\n",
    "    except Exception as e:\n",
    "        logger.error(f\"Error processing advert, prompt {prompt_name}: {str(e)}\")\n",
    "        return {\n",
    "            \"result\": \"error\",\n",
    "            \"evidence\": [],\n",
    "            \"explanation\": str(e),\n",
    "            \"confidence\": 0.0,\n",
    "        }\n"
   ]
  },
  {
   "cell_type": "code",
   "execution_count": 11,
   "id": "778fe1af-16b8-46c1-afb8-8ddd2b6dfcab",
   "metadata": {},
   "outputs": [],
   "source": [
    "unprofessional_writing_prompt = (\n",
    "        \"Analyze the following job advertisement for signs of unprofessional writing such as poor grammar or spelling. \"\n",
    "        \"Accept that missing spaces or words not separated by a space or spaces in the text, such as 'andcleaners', 'towork', is NOT a sign of unprofessional writing. \"\n",
    "        \"Return your analysis in the following JSON format:\"\n",
    "    ),"
   ]
  },
  {
   "cell_type": "code",
   "execution_count": 12,
   "id": "360f2fb1-cf9b-4353-9a0e-0f4256f38c04",
   "metadata": {},
   "outputs": [
    {
     "name": "stdout",
     "output_type": "stream",
     "text": [
      "Neo4j connection established.\n",
      "Neo4j connection closed.\n"
     ]
    }
   ],
   "source": [
    "prompt_name = \"assure_prompt\"\n",
    "query = \"\"\"\n",
    "MATCH (g:Group)-[:HAS_POSTING]-(posting:Posting)-[has_analysis:HAS_ANALYSIS {type: $prompt_name}]-(analysis:Analysis)\n",
    "WHERE analysis.result = 'yes'\n",
    "RETURN ID(g) AS groupIDn, g.name AS group_name, ID(posting) AS IDn, posting.post_url as url, posting.post_id AS post_id, posting.text AS advert, analysis.result as verdict, analysis.explanation as explanation\n",
    "\"\"\"\n",
    "parameters = {\"prompt_name\": prompt_name}\n",
    "adverts = pd.DataFrame(nl.execute_neo4j_query(query, parameters))"
   ]
  },
  {
   "cell_type": "code",
   "execution_count": 13,
   "id": "8467594c-48ea-48c4-8570-9457acfaa0e7",
   "metadata": {},
   "outputs": [
    {
     "data": {
      "text/plain": [
       "('https://www.facebook.com/groups/1250339572505634/posts/1511065519766370',\n",
       " 573471,\n",
       " 'Cleaning & Hospital Jobs is Hiring Part-Time Jobs')"
      ]
     },
     "execution_count": 13,
     "metadata": {},
     "output_type": "execute_result"
    }
   ],
   "source": [
    "adverts.loc[0]['url'], adverts.loc[0]['IDn'], adverts.loc[0]['group_name']"
   ]
  },
  {
   "cell_type": "code",
   "execution_count": null,
   "id": "663e5732-e3e1-47c1-8222-bc76703b060b",
   "metadata": {},
   "outputs": [],
   "source": [
    "adverts.loc[0]['explanation']"
   ]
  },
  {
   "cell_type": "code",
   "execution_count": 14,
   "id": "9b40852d-f3ed-47b0-abcc-4f1ac6fa7031",
   "metadata": {},
   "outputs": [
    {
     "name": "stdout",
     "output_type": "stream",
     "text": [
      "Neo4j connection established.\n",
      "Neo4j connection closed.\n"
     ]
    }
   ],
   "source": [
    "IDn = 573388\n",
    "advert = nl.get_neo4j_advert(IDn)"
   ]
  },
  {
   "cell_type": "code",
   "execution_count": 15,
   "id": "b52dcbc0-c280-43ed-8b20-8f464383abf1",
   "metadata": {},
   "outputs": [
    {
     "data": {
      "text/plain": [
       "'PICK N PAY is hiring General workers andcleaners, 90 men and 160 women towork at our storeNo certificate wanted .salary R4500per monthClosing date 28 March 2024Age 18 to 35 yearsMust hard workersMust be available urgentlyMust be will to work and learnAPPLY HERE:https://sites.google.com/view/job-updates2024/homeFor more vacancies'"
      ]
     },
     "execution_count": 15,
     "metadata": {},
     "output_type": "execute_result"
    }
   ],
   "source": [
    "advert"
   ]
  },
  {
   "cell_type": "code",
   "execution_count": 27,
   "id": "850a1f43-bf83-4b15-b26e-b0cdd5784d2a",
   "metadata": {},
   "outputs": [
    {
     "name": "stderr",
     "output_type": "stream",
     "text": [
      "INFO:httpx:HTTP Request: POST https://api.openai.com/v1/embeddings \"HTTP/1.1 200 OK\"\n"
     ]
    }
   ],
   "source": [
    "chat_engine = create_chat_engine(advert)"
   ]
  },
  {
   "cell_type": "code",
   "execution_count": 21,
   "id": "745d383d-08e6-411b-8a82-5c13b0704737",
   "metadata": {},
   "outputs": [
    {
     "data": {
      "text/plain": [
       "\"Examine the following job advertisement. Does the job ad convey a tone or use language that subtly assures applicants they are highly likely to get the job, even if it doesn't explicitly say so? Look for phrases or a manner of presenting the opportunity that implies it's a 'sure thing' or guarantees success. Return your analysis in the following JSON format:\""
      ]
     },
     "execution_count": 21,
     "metadata": {},
     "output_type": "execute_result"
    }
   ],
   "source": []
  },
  {
   "cell_type": "code",
   "execution_count": 20,
   "id": "910e899c-304b-4bf6-b494-5df3d54abb3d",
   "metadata": {},
   "outputs": [
    {
     "name": "stderr",
     "output_type": "stream",
     "text": [
      "INFO:httpx:HTTP Request: POST https://api.openai.com/v1/embeddings \"HTTP/1.1 200 OK\"\n",
      "ERROR:__main__:Error processing advert, prompt assure_prompt: [Errno 61] Connection refused\n"
     ]
    }
   ],
   "source": [
    "advert_analysis = analyse_advert(chat_engine, advert, 'assure_prompt')"
   ]
  },
  {
   "cell_type": "code",
   "execution_count": 23,
   "id": "a84d4dab-dd63-4a5e-a4bc-fc7505d26228",
   "metadata": {},
   "outputs": [],
   "source": [
    "prompt =  cp.CLAUDE_PROMPTS.get(prompt_name)"
   ]
  },
  {
   "cell_type": "code",
   "execution_count": 28,
   "id": "ab9b7853-c2ac-4ee9-81cc-f32e13179c39",
   "metadata": {},
   "outputs": [
    {
     "name": "stderr",
     "output_type": "stream",
     "text": [
      "INFO:httpx:HTTP Request: POST https://api.openai.com/v1/embeddings \"HTTP/1.1 200 OK\"\n",
      "INFO:httpx:HTTP Request: POST http://localhost:11434/api/chat \"HTTP/1.1 200 OK\"\n",
      "INFO:__main__:Response to assure_prompt: {\"result\": \"yes\", \"evidence\": [\"No certificate wanted.\", \"salary R4500 per month\"], \"confidence\": 0.8, \"explanation\": \"The job ad presents a relatively low barrier to entry (no certificate required) and a competitive salary, which may create an impression of ease in securing the position.\"}\n"
     ]
    }
   ],
   "source": [
    "advert_analysis =  analyse_advert_with_prompt(chat_engine, advert, prompt)"
   ]
  },
  {
   "cell_type": "code",
   "execution_count": null,
   "id": "9b366e0a-2bc6-471f-852e-6a72a0024e7a",
   "metadata": {},
   "outputs": [],
   "source": [
    "advert_analysis"
   ]
  },
  {
   "cell_type": "code",
   "execution_count": null,
   "id": "d2631ea0-4e39-45f4-9ef0-d653c79f5034",
   "metadata": {},
   "outputs": [],
   "source": [
    "unprofessional_writing_prompt[0]"
   ]
  },
  {
   "cell_type": "code",
   "execution_count": null,
   "id": "7e22d6b6-6c27-4531-9e1b-fdc5b1f3a512",
   "metadata": {},
   "outputs": [],
   "source": []
  },
  {
   "cell_type": "code",
   "execution_count": null,
   "id": "3b820837-3366-43fe-9893-7d4119079a92",
   "metadata": {},
   "outputs": [],
   "source": [
    "llm = Ollama(model=\"llama3.1\", temperature=0, max_tokens=8192)"
   ]
  },
  {
   "cell_type": "code",
   "execution_count": 6,
   "id": "ba2df9bf-cec0-4559-9d10-640d11e0c9ac",
   "metadata": {},
   "outputs": [
    {
     "ename": "NameError",
     "evalue": "name 'Ollama' is not defined",
     "output_type": "error",
     "traceback": [
      "\u001b[0;31m---------------------------------------------------------------------------\u001b[0m",
      "\u001b[0;31mNameError\u001b[0m                                 Traceback (most recent call last)",
      "Cell \u001b[0;32mIn[6], line 1\u001b[0m\n\u001b[0;32m----> 1\u001b[0m llm \u001b[38;5;241m=\u001b[39m \u001b[43mOllama\u001b[49m(model\u001b[38;5;241m=\u001b[39m\u001b[38;5;124m\"\u001b[39m\u001b[38;5;124mllama3.1:latest\u001b[39m\u001b[38;5;124m\"\u001b[39m, temperature\u001b[38;5;241m=\u001b[39m\u001b[38;5;241m0\u001b[39m, max_tokens\u001b[38;5;241m=\u001b[39m\u001b[38;5;241m8192\u001b[39m, request_timeout\u001b[38;5;241m=\u001b[39m\u001b[38;5;241m120.0\u001b[39m)\n",
      "\u001b[0;31mNameError\u001b[0m: name 'Ollama' is not defined"
     ]
    }
   ],
   "source": [
    "llm = Ollama(model=\"llama3.1:latest\", temperature=0, max_tokens=8192, request_timeout=120.0)"
   ]
  },
  {
   "cell_type": "code",
   "execution_count": null,
   "id": "272fccc7-5b3a-4c90-8186-f426a2904561",
   "metadata": {},
   "outputs": [],
   "source": []
  }
 ],
 "metadata": {
  "kernelspec": {
   "display_name": "Python 3 (ipykernel)",
   "language": "python",
   "name": "python3"
  },
  "language_info": {
   "codemirror_mode": {
    "name": "ipython",
    "version": 3
   },
   "file_extension": ".py",
   "mimetype": "text/x-python",
   "name": "python",
   "nbconvert_exporter": "python",
   "pygments_lexer": "ipython3",
   "version": "3.9.12"
  }
 },
 "nbformat": 4,
 "nbformat_minor": 5
}
