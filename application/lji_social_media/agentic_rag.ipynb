{
 "cells": [
  {
   "cell_type": "code",
   "execution_count": 36,
   "id": "beae63bc-0a1a-49c0-9915-bb84b201b04e",
   "metadata": {},
   "outputs": [],
   "source": [
    "import pandas as pd\n",
    "from llama_index.core import Document\n",
    "from llama_index.core.node_parser import (\n",
    "    HierarchicalNodeParser,\n",
    "    SentenceSplitter,\n",
    ")\n",
    "from llama_index.core.node_parser import get_leaf_nodes, get_root_nodes\n",
    "from llama_index.llms.openai import OpenAI\n",
    "from llama_index.core import StorageContext\n",
    "from llama_index.core.response.notebook_utils import display_source_node"
   ]
  },
  {
   "cell_type": "code",
   "execution_count": 38,
   "id": "521ec7ca-2ea5-4e36-88f0-dc472554c240",
   "metadata": {},
   "outputs": [],
   "source": [
    "from llama_index.core.retrievers import AutoMergingRetriever\n",
    "from llama_index.core.query_engine import RetrieverQueryEngine"
   ]
  },
  {
   "cell_type": "code",
   "execution_count": 26,
   "id": "2d531110-a50f-4db7-8a69-40b6c57c51f4",
   "metadata": {},
   "outputs": [],
   "source": [
    "from llama_index.core.storage.docstore import SimpleDocumentStore"
   ]
  },
  {
   "cell_type": "code",
   "execution_count": 10,
   "id": "ed8bc053-2d81-487e-a0b4-866a300a11d9",
   "metadata": {},
   "outputs": [],
   "source": [
    "import pandas as pd\n",
    "import re"
   ]
  },
  {
   "cell_type": "code",
   "execution_count": 3,
   "id": "3b3ca99d-0999-4fc2-b1b9-c5d8f1208449",
   "metadata": {},
   "outputs": [],
   "source": [
    "data = pd.read_csv(\"results/advert_comparison_cleaned.csv\")"
   ]
  },
  {
   "cell_type": "code",
   "execution_count": 4,
   "id": "4946075f-0bbb-4174-8a20-cb6a2bb88abf",
   "metadata": {},
   "outputs": [],
   "source": [
    "features = [\n",
    "    \"Recruiting young people who are still in school\",\n",
    "    \"Paying more than the market rate for the skill level or type of job that they are hiring for\",\n",
    "    \"Not mentioning any skill requirements\",\n",
    "    \"Not mentioning the nature of the job\",\n",
    "    \"Not mentioning the name or the location of the hiring business\",\n",
    "    \"Paying the same salary for different job posts positions\",\n",
    "    \"Hiring for an organization such as ESKOM who has publicly stated that they don t advertise job posts on social media\",\n",
    "    \"Recruiting specifically females for a job that male or female applicants would qualify for\",\n",
    "    \"Unprofessional writing poor grammar spelling\",\n",
    "    \"Recruiting models\",\n",
    "    \"Changing from English to other languages in the middle of the post\",\n",
    "    \"Using a suspicious email address\",\n",
    "    \"Advertising for positions in several promises especially without detail\",\n",
    "    \"Looks Legit\",\n",
    "]"
   ]
  },
  {
   "cell_type": "code",
   "execution_count": 8,
   "id": "74498b3e-fa58-41fb-b651-e3a72564adb3",
   "metadata": {},
   "outputs": [],
   "source": [
    "data_columns = list(data.columns)"
   ]
  },
  {
   "cell_type": "code",
   "execution_count": 11,
   "id": "c37da79d-770b-448a-83ba-220c4bcebecb",
   "metadata": {},
   "outputs": [
    {
     "data": {
      "text/plain": [
       "['Unnamed 0',\n",
       " 'Unnamed 1',\n",
       " 'Monitor Rating',\n",
       " 'Monitor Reason',\n",
       " 'Recruiting young people who are still in school',\n",
       " 'Paying more than the market rate for the skill level or type of job that they are hiring for',\n",
       " 'Not mentioning any skill requirements',\n",
       " 'Not mentioning the nature of the job',\n",
       " 'Not mentioning the name or the location of the hiring business',\n",
       " 'Paying the same salary for different job posts positions',\n",
       " 'Hiring for an organization such as ESKOM who has publicly stated that they don t advertise job posts on social media',\n",
       " 'Recruiting specifically females for a job that male or female applicants would qualify for',\n",
       " 'Unprofessional writing poor grammar spelling',\n",
       " 'Recruiting models',\n",
       " 'Changing from English to other languages in the middle of the post',\n",
       " 'Using a suspicious email address',\n",
       " 'Advertising for positions in several promises especially without detail',\n",
       " 'Looks Legit']"
      ]
     },
     "execution_count": 11,
     "metadata": {},
     "output_type": "execute_result"
    }
   ],
   "source": [
    "\n",
    "new_cols = [re.sub(\"\\W+\", \" \", col).strip() for col in data_columns]\n",
    "rename = {}\n",
    "for new_col, col in zip(new_cols, data_columns):\n",
    "    rename[col] = new_col\n",
    "data.rename(columns=rename, inplace=True)\n",
    "list(data)"
   ]
  },
  {
   "cell_type": "code",
   "execution_count": 12,
   "id": "e4e07245-0850-47eb-85e2-1379867aa9ed",
   "metadata": {},
   "outputs": [],
   "source": [
    "rename = {'Unnamed 0':'IDn', 'Unnamed 1':'Advert'}"
   ]
  },
  {
   "cell_type": "code",
   "execution_count": 13,
   "id": "62b9e4b1-8cf9-41bc-b273-180b0a803bc7",
   "metadata": {},
   "outputs": [],
   "source": [
    "data.rename(columns=rename, inplace=True)"
   ]
  },
  {
   "cell_type": "code",
   "execution_count": 15,
   "id": "4b285cc9-8370-4ab1-ac57-57be6610775b",
   "metadata": {},
   "outputs": [],
   "source": [
    "data.to_csv(\"results/advert_comparison_cleaned.csv\", index=False)"
   ]
  },
  {
   "cell_type": "code",
   "execution_count": 17,
   "id": "3ebdeb8c-abe8-4c42-bbab-dd2c26e174cb",
   "metadata": {},
   "outputs": [],
   "source": [
    "stories = []\n",
    "metadata = []\n",
    "flags = {}\n",
    "for idx, feature in enumerate(features):\n",
    "    flags[feature] = f\"```Flag {idx}. \" + feature + \"```\"\n"
   ]
  },
  {
   "cell_type": "code",
   "execution_count": 21,
   "id": "63a6bb03-cb33-431e-b543-6de65ca114f6",
   "metadata": {},
   "outputs": [],
   "source": [
    "for idx, row in data.iterrows():\n",
    "    identified_features = []\n",
    "    for feature in features:\n",
    "        if row[feature] == 1:\n",
    "            identified_features.append(flags[feature])\n",
    "        else:\n",
    "            data.loc[idx, feature] = None\n",
    "\n",
    "    story = f\"\"\"The advert with text ```{row['Advert']}``` is given a Monitor Rating of {row['Monitor Rating']} where 0 is not suspicious and 9 is likely fraudulent or fake.  \n",
    "    and the Monitor Reason for giving this rating is {row['Monitor Reason']}.  The following \n",
    "    features were observed: {' AND '.join(identified_features)}. \"\"\"\n",
    "    stories.append(story)\n",
    "    meta = {\n",
    "        \"idn\": row[\"IDn\"],\n",
    "    }\n",
    "    metadata.append(meta)\n"
   ]
  },
  {
   "cell_type": "code",
   "execution_count": 22,
   "id": "46fea673-9ac8-4df9-9109-14324838c217",
   "metadata": {},
   "outputs": [],
   "source": [
    "\n",
    "story = (\n",
    "    \"A monitor is a person who assesses a online recruitment adverts and provides a Likert-style rating as to the likelihood \"\n",
    "    \"of this advert being used for the purposes of falsely luring respondents into trafficking.  The Likert scale\"\n",
    "    \"ranges from 0 to 9, where 0 is not suspicious and 9 is likely fraudulent or fake.  The rating is known as the Monitor rating.\"\n",
    "    \"The Monitor also notes a reason for their rating.\"\n",
    "    \"Here is a list of key features a Monitor looks for in the advert:\"\n",
    "    \"[```Recruiting young people who are still in school```\",\n",
    "    \"```Paying more than the market rate for the skill level or type of job that they are hiring for```\",\n",
    "    \"```Not mentioning any skill requirements```\",\n",
    "    \"```Not mentioning the nature of the job```\",\n",
    "    \"```Not mentioning the name or the location of the hiring business```\",\n",
    "    \"```Paying the same salary for different job posts positions```\",\n",
    "    \"```Hiring for an organization such as ESKOM who has publicly stated that they don't advertise job posts on social media```\",\n",
    "    \"```Recruiting specifically females for a job that male or female applicants would qualify for```,\",\n",
    "    \"```Unprofessional writing poor grammar spelling```\",\n",
    "    \"```Recruiting models```\",\n",
    "    \"```Changing from English to other languages in the middle of the post```\",\n",
    "    \"```Using a suspicious email address```\",\n",
    "    \"```Advertising for positions in several promises especially without detail```, ```Looks Legit```]\",\n",
    "    \"When the Monitor has NO reason to suspect that the adverts is being used for the purposes of human trafficking,\"\n",
    "    \"the option 'Looks Legit' is chosen.  However the Monitor HAS to choose one of these options.\",\n",
    ")\n",
    "stories.append(story)\n",
    "documents = []\n",
    "for meta, document in zip(metadata, stories):\n",
    "    documents.append(Document(text=document, metadata=meta))\n"
   ]
  },
  {
   "cell_type": "code",
   "execution_count": 27,
   "id": "b7c59e07-402f-4607-bbe7-e18446a13d59",
   "metadata": {},
   "outputs": [],
   "source": [
    "node_parser = HierarchicalNodeParser.from_defaults()\n",
    "\n",
    "nodes = node_parser.get_nodes_from_documents(documents)\n",
    "len(nodes)\n",
    "\n",
    "\n",
    "leaf_nodes = get_leaf_nodes(nodes)\n",
    "len(leaf_nodes)\n",
    "root_nodes = get_root_nodes(nodes)\n",
    "len(root_nodes)\n",
    "# define storage context\n",
    "\n",
    "docstore = SimpleDocumentStore()\n"
   ]
  },
  {
   "cell_type": "code",
   "execution_count": 31,
   "id": "6cbb19a4-8b5b-4d59-ace5-0b790d8a1294",
   "metadata": {},
   "outputs": [],
   "source": [
    "docstore.add_documents(nodes)\n",
    "\n",
    "# define storage context (will include vector store by default too)\n",
    "storage_context = StorageContext.from_defaults(docstore=docstore)\n",
    "\n",
    "llm = OpenAI(model=\"gpt-4o\")\n",
    "## Load index into vector index\n",
    "from llama_index.core import VectorStoreIndex\n",
    "\n",
    "base_index = VectorStoreIndex(\n",
    "    leaf_nodes,\n",
    "    storage_context=storage_context,\n",
    ")\n"
   ]
  },
  {
   "cell_type": "code",
   "execution_count": 34,
   "id": "635211a8-730d-41dc-a4ab-1647badd085f",
   "metadata": {},
   "outputs": [],
   "source": [
    "\n",
    "base_retriever = base_index.as_retriever(similarity_top_k=6)\n",
    "retriever = AutoMergingRetriever(base_retriever, storage_context, verbose=True)\n",
    "# query_str = \"What were some lessons learned from red-teaming?\"\n",
    "# query_str = \"Can you tell me about the key concepts for safety finetuning\"\n",
    "advert = data.sample(1)[\"Advert\"].values[0]\n",
    "# data.sample(1)[\"Unnamed 0\"].values[0]\n",
    "query_str = (\n",
    "    f\"Assistant please provide a Monitor rating and a Monitor reason for the following advert ```{advert}```\"\n",
    "    \"without using your pretrained knowledge about human trafficking but only the documentation given to you.\"\n",
    "    \"Please provide your Monitor rating on an integer scale of 0 to 9, with 9 being the most likely to be used in human trafficking.\"\n",
    "    \"Also provide a reason for your Monitor rating.  This reason must also NOT be extracted from anywhere else but the documentation given to you.\"\n",
    "    \"You will also need to provide a list of ALL red flags that you have identified in the advert as per the documentation given to you.\"\n",
    "    \"Red flags can ONLY be one OR more of the following, don't make up new ones and do not blend any together as you see fit:\"\n",
    "    \"[Recruiting young people who are still in school\",\n",
    "    \"Paying more than the market rate for the skill level or type of job that they are hiring for\",\n",
    "    \"Not mentioning any skill requirements\",\n",
    "    \"Not mentioning the nature of the job\",\n",
    "    \"Not mentioning the name or the location of the hiring business\",\n",
    "    \"Paying the same salary for different job posts positions\",\n",
    "    \"Hiring for an organization such as ESKOM who has publicly stated that they don t advertise job posts on social media\",\n",
    "    \"Recruiting specifically females for a job that male or female applicants would qualify for\",\n",
    "    \"Unprofessional writing poor grammar spelling\",\n",
    "    \"Recruiting models\",\n",
    "    \"Changing from English to other languages in the middle of the post\",\n",
    "    \"Using a suspicious email address\",\n",
    "    \"Advertising for positions in several promises especially without detail]\",\n",
    "    \"When there are NO red flags, please indicate this by stating 'No red flags identified'.\"\n",
    "    \"Provide your response in JSON format and ensure it can be parsed correctly.\"\n",
    "    \"Here is an example:\"\n",
    "    '{\"Monitor rating\": integer, \"Monitor reason\": \"reasoning\", \"red flags\": [\"red flag 1\", \"red flag 2\", etc]}',\n",
    ")\n",
    "prompt = \" \".join(query_str)\n",
    "\n",
    "nodes = retriever.retrieve(prompt)\n",
    "base_nodes = base_retriever.retrieve(prompt)\n"
   ]
  },
  {
   "cell_type": "code",
   "execution_count": 39,
   "id": "7a067ad0-cbf8-4972-b589-666fcd7a1e51",
   "metadata": {},
   "outputs": [
    {
     "data": {
      "text/markdown": [
       "**Node ID:** ad790bb9-4a72-4346-8cd2-a5debd398f5c<br>**Similarity:** 0.9165933905861426<br>**Text:** The advert with text ```We are looking for a Nanny.Must be good in English and Sepedi.Send us your CV to Intern2@heitha.co.zaWe are based in Pretoria.Closing Date : 10 April 2024For more jobs apply here :https://bit.ly/3PdFmw6@everyone``` is given a Monitor Rating of 7 where 0 is not suspicious and 9 is likely fraudulent or fake.<br>"
      ],
      "text/plain": [
       "<IPython.core.display.Markdown object>"
      ]
     },
     "metadata": {},
     "output_type": "display_data"
    },
    {
     "data": {
      "text/markdown": [
       "**Node ID:** e17e6ba9-119c-4e5a-9ff2-e74c4d3bf2e2<br>**Similarity:** 0.8726569319305313<br>**Text:** The advert with text ```Am looking for anyone who's really looking for a job if you interested what's app us on 0845281314``` is given a Monitor Rating of 8 where 0 is not suspicious and 9 is likely fraudulent or fake.  \n",
       "    and the Monitor Reason for giving this rating is Worth of checking, the manner is been written it fits into the cases we have dealt with before. .  The following \n",
       "    features were observed: ```Flag 2. Not mentioning any skill requirements``` AND ```Flag 3.<br>"
      ],
      "text/plain": [
       "<IPython.core.display.Markdown object>"
      ]
     },
     "metadata": {},
     "output_type": "display_data"
    },
    {
     "data": {
      "text/markdown": [
       "**Node ID:** dab3b0fb-eb94-4e01-80b4-032c6ce3d740<br>**Similarity:** 0.8708168204704607<br>**Text:** we will call u, No certificate wanted.Minimum Requirements:Grade 10/12South African CitizenPhysically fitAble to work long hoursTo Applyhttps://sites.google.com/view/sa-update-jobs-home-job/homeNB*never pay for any job or positionUzosebenza ne overtime.``` is given a Monitor Rating of 9 where 0 is not suspicious and 9 is likely fraudulent or fake.  \n",
       "    and the Monitor Reason for giving this rating is The job post fits well into what other ST's normal post, so this definately fits to HT, and possible evidence.<br>"
      ],
      "text/plain": [
       "<IPython.core.display.Markdown object>"
      ]
     },
     "metadata": {},
     "output_type": "display_data"
    },
    {
     "data": {
      "text/markdown": [
       "**Node ID:** 41ee9606-ff22-44e0-93f3-f8498bbf239b<br>**Similarity:** 0.8663381361973794<br>**Text:** The advert with text ```Cleaners Needed UrgentlyMust have Grade 8-12Salary of R8 000 pmMust be available Immediately1.Gauteng2.Eastern Cape3.Free State4.Northern Cape5.Limpopo6.Mpumalanga7.Western Cape8.North West9.KZNApply here >>https://sites.google.com/view/za-applications/home``` is given a Monitor Rating of 9 where 0 is not suspicious and 9 is likely fraudulent or fake.<br>"
      ],
      "text/plain": [
       "<IPython.core.display.Markdown object>"
      ]
     },
     "metadata": {},
     "output_type": "display_data"
    },
    {
     "data": {
      "text/markdown": [
       "**Node ID:** 2ac08ae0-0da2-4941-b585-3a85e698e907<br>**Similarity:** 0.8654066436771782<br>**Text:** The advert with text ```I am looking for someone who wants to work on the weekends Saturday and Sunday. Daily payment. pleeseapply online on watssapp»https://sites.google.com/view/za-application/home``` is given a Monitor Rating of 7 where 0 is not suspicious and 9 is likely fraudulent or fake.  \n",
       "    and the Monitor Reason for giving this rating is Does not look legit, and there is element of HT, even though there is a need to do more research to determine if indeed there is element of high risk or evidence.<br>"
      ],
      "text/plain": [
       "<IPython.core.display.Markdown object>"
      ]
     },
     "metadata": {},
     "output_type": "display_data"
    },
    {
     "data": {
      "text/markdown": [
       "**Node ID:** a0b4583f-2236-47be-bdb3-2956fcd3d8e6<br>**Similarity:** 0.8637019109086622<br>**Text:** Free State6. Northern Cape7. Eastern Cape8. Western Cape9. KwaZulu-NaalSubmit your CV:https://sites.google.com/view/sa-applications-/home``` is given a Monitor Rating of 7 where 0 is not suspicious and 9 is likely fraudulent or fake.  \n",
       "    and the Monitor Reason for giving this rating is Typical of the previous cases.  The following \n",
       "    features were observed: ```Flag 4. Not mentioning the name or the location of the hiring business``` AND ```Flag 7.<br>"
      ],
      "text/plain": [
       "<IPython.core.display.Markdown object>"
      ]
     },
     "metadata": {},
     "output_type": "display_data"
    },
    {
     "data": {
      "text/markdown": [
       "**Node ID:** ad790bb9-4a72-4346-8cd2-a5debd398f5c<br>**Similarity:** 0.9165933905861426<br>**Text:** The advert with text ```We are looking for a Nanny.Must be good in English and Sepedi.Send us your CV to Intern2@heitha.co.zaWe are based in Pretoria.Closing Date : 10 April 2024For more jobs apply here :https://bit.ly/3PdFmw6@everyone``` is given a Monitor Rating of 7 where 0 is not suspicious and 9 is likely fraudulent or fake.<br>"
      ],
      "text/plain": [
       "<IPython.core.display.Markdown object>"
      ]
     },
     "metadata": {},
     "output_type": "display_data"
    },
    {
     "data": {
      "text/markdown": [
       "**Node ID:** e17e6ba9-119c-4e5a-9ff2-e74c4d3bf2e2<br>**Similarity:** 0.8726569319305313<br>**Text:** The advert with text ```Am looking for anyone who's really looking for a job if you interested what's app us on 0845281314``` is given a Monitor Rating of 8 where 0 is not suspicious and 9 is likely fraudulent or fake.  \n",
       "    and the Monitor Reason for giving this rating is Worth of checking, the manner is been written it fits into the cases we have dealt with before. .  The following \n",
       "    features were observed: ```Flag 2. Not mentioning any skill requirements``` AND ```Flag 3.<br>"
      ],
      "text/plain": [
       "<IPython.core.display.Markdown object>"
      ]
     },
     "metadata": {},
     "output_type": "display_data"
    },
    {
     "data": {
      "text/markdown": [
       "**Node ID:** dab3b0fb-eb94-4e01-80b4-032c6ce3d740<br>**Similarity:** 0.8708168204704607<br>**Text:** we will call u, No certificate wanted.Minimum Requirements:Grade 10/12South African CitizenPhysically fitAble to work long hoursTo Applyhttps://sites.google.com/view/sa-update-jobs-home-job/homeNB*never pay for any job or positionUzosebenza ne overtime.``` is given a Monitor Rating of 9 where 0 is not suspicious and 9 is likely fraudulent or fake.  \n",
       "    and the Monitor Reason for giving this rating is The job post fits well into what other ST's normal post, so this definately fits to HT, and possible evidence.<br>"
      ],
      "text/plain": [
       "<IPython.core.display.Markdown object>"
      ]
     },
     "metadata": {},
     "output_type": "display_data"
    },
    {
     "data": {
      "text/markdown": [
       "**Node ID:** 41ee9606-ff22-44e0-93f3-f8498bbf239b<br>**Similarity:** 0.8663381361973794<br>**Text:** The advert with text ```Cleaners Needed UrgentlyMust have Grade 8-12Salary of R8 000 pmMust be available Immediately1.Gauteng2.Eastern Cape3.Free State4.Northern Cape5.Limpopo6.Mpumalanga7.Western Cape8.North West9.KZNApply here >>https://sites.google.com/view/za-applications/home``` is given a Monitor Rating of 9 where 0 is not suspicious and 9 is likely fraudulent or fake.<br>"
      ],
      "text/plain": [
       "<IPython.core.display.Markdown object>"
      ]
     },
     "metadata": {},
     "output_type": "display_data"
    },
    {
     "data": {
      "text/markdown": [
       "**Node ID:** 2ac08ae0-0da2-4941-b585-3a85e698e907<br>**Similarity:** 0.8654066436771782<br>**Text:** The advert with text ```I am looking for someone who wants to work on the weekends Saturday and Sunday. Daily payment. pleeseapply online on watssapp»https://sites.google.com/view/za-application/home``` is given a Monitor Rating of 7 where 0 is not suspicious and 9 is likely fraudulent or fake.  \n",
       "    and the Monitor Reason for giving this rating is Does not look legit, and there is element of HT, even though there is a need to do more research to determine if indeed there is element of high risk or evidence.<br>"
      ],
      "text/plain": [
       "<IPython.core.display.Markdown object>"
      ]
     },
     "metadata": {},
     "output_type": "display_data"
    },
    {
     "data": {
      "text/markdown": [
       "**Node ID:** a0b4583f-2236-47be-bdb3-2956fcd3d8e6<br>**Similarity:** 0.8637019109086622<br>**Text:** Free State6. Northern Cape7. Eastern Cape8. Western Cape9. KwaZulu-NaalSubmit your CV:https://sites.google.com/view/sa-applications-/home``` is given a Monitor Rating of 7 where 0 is not suspicious and 9 is likely fraudulent or fake.  \n",
       "    and the Monitor Reason for giving this rating is Typical of the previous cases.  The following \n",
       "    features were observed: ```Flag 4. Not mentioning the name or the location of the hiring business``` AND ```Flag 7.<br>"
      ],
      "text/plain": [
       "<IPython.core.display.Markdown object>"
      ]
     },
     "metadata": {},
     "output_type": "display_data"
    },
    {
     "name": "stdout",
     "output_type": "stream",
     "text": [
      "{\n",
      "    \"Monitor rating\": 7,\n",
      "    \"Monitor reason\": \"Does not look legit, and there is element of HT, even though there is a need to do more research to determine if indeed there is element of high risk or evidence.\",\n",
      "    \"red flags\": [\"Not mentioning any skill requirements\", \"Not mentioning the name or the location of the hiring business\"]\n",
      "}\n",
      "We are looking for a Nanny.Must be good in English and Sepedi.Send us your CV to Intern2@heitha.co.zaWe are based in Pretoria.Closing Date : 10 April 2024For more jobs apply here :https://bit.ly/3PdFmw6@everyone {\n",
      "    \"Monitor rating\": 7,\n",
      "    \"Monitor reason\": \"Does not look legit, and there is element of HT, even though there is a need to do more research to determine if indeed there is element of high risk or evidence.\",\n",
      "    \"red flags\": [\"Not mentioning any skill requirements\", \"Not mentioning the name or the location of the hiring business\"]\n",
      "}\n"
     ]
    }
   ],
   "source": [
    "\n",
    "for node in nodes:\n",
    "    p = display_source_node(node, source_length=10000)\n",
    "\n",
    "for node in base_nodes:\n",
    "    display_source_node(node, source_length=10000)\n",
    "\n",
    "\n",
    "query_engine = RetrieverQueryEngine.from_args(retriever)\n",
    "base_query_engine = RetrieverQueryEngine.from_args(base_retriever)\n",
    "\n",
    "response = query_engine.query(prompt)\n",
    "print(response.response)\n",
    "print(advert,str(response))"
   ]
  },
  {
   "cell_type": "code",
   "execution_count": null,
   "id": "5307a290-ab43-4904-9365-a89d95dea638",
   "metadata": {},
   "outputs": [],
   "source": []
  }
 ],
 "metadata": {
  "kernelspec": {
   "display_name": "Python 3 (ipykernel)",
   "language": "python",
   "name": "python3"
  },
  "language_info": {
   "codemirror_mode": {
    "name": "ipython",
    "version": 3
   },
   "file_extension": ".py",
   "mimetype": "text/x-python",
   "name": "python",
   "nbconvert_exporter": "python",
   "pygments_lexer": "ipython3",
   "version": "3.9.12"
  }
 },
 "nbformat": 4,
 "nbformat_minor": 5
}
