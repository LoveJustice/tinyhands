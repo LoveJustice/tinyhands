{
 "cells": [
  {
   "cell_type": "code",
   "execution_count": null,
   "id": "0",
   "metadata": {},
   "outputs": [],
   "source": [
    "import sys\n",
    "sys.path.append('../libraries/')\n",
    "sys.path.append('results/')\n",
    "\n",
    "import pandas as pd\n",
    "import matplotlib.pyplot as plt\n",
    "import shap\n",
    "import libraries.model_tools as mt\n",
    "\n",
    "from shap import KernelExplainer, Explanation\n",
    "\n",
    "import os"
   ]
  },
  {
   "cell_type": "code",
   "execution_count": null,
   "id": "1",
   "metadata": {},
   "outputs": [],
   "source": [
    "os.getcwd()"
   ]
  },
  {
   "cell_type": "code",
   "execution_count": null,
   "id": "2",
   "metadata": {},
   "outputs": [],
   "source": [
    "os.chdir('/Users/christostrydom/github_repos/tinyhands/application/lji_social_media/')\n",
    "\n",
    "DATA_COLUMNS = [\n",
    "    \"assure_prompt\",\n",
    "    \"bypass_prompt\",\n",
    "    \"callback_request_prompt\",\n",
    "    \"false_organization_prompt\",\n",
    "    \"gender_specific_prompt\",\n",
    "    \"illegal_activities_prompt\",\n",
    "    \"immediate_hiring_prompt\",\n",
    "    \"language_switch_prompt\",\n",
    "    # \"multiple_applicants_prompt\",\n",
    "    # \"multiple_jobs_prompt\",\n",
    "    \"multiple_provinces_prompt\",\n",
    "    \"no_education_skilled_prompt\",\n",
    "    \"no_location_prompt\",\n",
    "    \"quick_money_prompt\",\n",
    "    \"recruit_students_prompt\",\n",
    "    # \"requires_references\",\n",
    "    \"suspicious_email_prompt\",\n",
    "    \"target_specific_group_prompt\",\n",
    "    \"unprofessional_writing_prompt\",\n",
    "    \"unrealistic_hiring_number_prompt\",\n",
    "    \"unusual_hours_prompt\",\n",
    "    \"vague_description_prompt\",\n",
    "    \"wrong_link_prompt\",\n",
    "]\n",
    "\n",
    "\n",
    "def load_and_preprocess_data(file_path):\n",
    "    \"\"\"\n",
    "    Load and preprocess the dataset from the provided file path.\n",
    "    \"\"\"\n",
    "    model_data = pd.read_csv(file_path)\n",
    "    model_data = model_data[\n",
    "        (model_data[\"monitor_score\"] != \"unknown\")\n",
    "        & (~model_data[\"monitor_score\"].isna())\n",
    "    ]\n",
    "    mapping = {\"yes\": 1, \"no\": 0}\n",
    "    model_data = model_data.replace(mapping)\n",
    "    for col in DATA_COLUMNS:\n",
    "        model_data[col] = pd.to_numeric(model_data[col], errors=\"coerce\")\n",
    "\n",
    "        # Now, you can identify and handle NaN values\n",
    "        non_numeric_entries = model_data[model_data[col].isna()]\n",
    "        model_data = model_data.dropna(subset=[col])\n",
    "        model_data[col] = model_data[col].astype(int)\n",
    "\n",
    "    return model_data, model_data[\"monitor_score\"]\n",
    "\n",
    "\n",
    "\n",
    "# Load your saved model\n",
    "unique_model_filename = \"redflag_model_2024-10-18T14_28_09_548540.pkl\"  # Update with the actual filename\n",
    "trained_pipeline = mt.load_model(unique_model_filename)\n",
    "\n",
    "file_path = \"results/advert_flags.csv\"\n",
    "advert_flags, y = load_and_preprocess_data(file_path)\n",
    "X = advert_flags[DATA_COLUMNS]\n",
    "\n",
    "# If your model contains any preprocessing steps (like data transformation), ensure you transform the data accordingly\n",
    "X_transformed = trained_pipeline[:-1].transform(X)  # Assuming the last step is the model, we skip it\n",
    "\n",
    "# Convert transformed data to a DataFrame for SHAP compatibility\n",
    "X_transformed_df = pd.DataFrame(X_transformed, columns=X.columns[:X_transformed.shape[1]])\n",
    "\n",
    "# Initialize SHAP KernelExplainer with the model and the transformed dataset\n",
    "explainer = KernelExplainer(trained_pipeline[-1].predict, X_transformed_df)\n",
    "\n",
    "# Calculate SHAP values for the entire dataset\n",
    "shap_values = explainer.shap_values(X_transformed_df, nsamples=100)\n",
    "\n",
    "# Plot SHAP summary plot for the entire dataset\n",
    "plt.figure()\n",
    "shap.summary_plot(shap_values, X_transformed_df)\n",
    "\n",
    "# If you want to analyze individual predictions, pick a specific row (e.g., row 0)\n",
    "instance_index = 0\n",
    "shap_values_instance = shap_values[instance_index]\n",
    "\n",
    "# Plot a SHAP waterfall plot for an individual instance\n",
    "plt.figure()\n",
    "shap.plots.waterfall(shap.Explanation(values=shap_values_instance, feature_names=X_transformed_df.columns), max_display=20)\n",
    "\n",
    "# Show the plots\n",
    "plt.show()"
   ]
  },
  {
   "cell_type": "code",
   "execution_count": null,
   "id": "3",
   "metadata": {},
   "outputs": [],
   "source": [
    "advert_flags.iloc[3]"
   ]
  },
  {
   "cell_type": "code",
   "execution_count": null,
   "id": "4",
   "metadata": {},
   "outputs": [],
   "source": [
    "advert_flags"
   ]
  },
  {
   "cell_type": "code",
   "execution_count": null,
   "id": "5",
   "metadata": {},
   "outputs": [],
   "source": [
    "# Plot SHAP summary plot for the entire dataset\n",
    "plt.figure()\n",
    "shap.summary_plot(shap_values, X_transformed_df)\n",
    "\n",
    "# If you want to analyze individual predictions, pick a specific row (e.g., row 0)\n",
    "instance_index = 3\n",
    "shap_values_instance = shap_values[instance_index]\n",
    "\n",
    "# Create an Explanation object for the individual instance\n",
    "shap_values_instance_explanation = Explanation(\n",
    "    values=shap_values_instance,\n",
    "    base_values=explainer.expected_value,\n",
    "    data=X_transformed_df.iloc[instance_index],\n",
    "    feature_names=X_transformed_df.columns\n",
    ")\n",
    "\n",
    "# Plot a SHAP waterfall plot for an individual instance\n",
    "plt.figure()\n",
    "shap.plots.waterfall(shap_values_instance_explanation, max_display=20)\n",
    "\n",
    "# Show the plots\n",
    "plt.show()"
   ]
  },
  {
   "cell_type": "code",
   "execution_count": null,
   "id": "6",
   "metadata": {},
   "outputs": [],
   "source": [
    "# Extract feature importances (mean absolute SHAP values)\n",
    "feature_importances = pd.DataFrame({\n",
    "    'Feature': X_transformed_df.columns,\n",
    "    'Importance': abs(shap_values).mean(axis=0)\n",
    "}).sort_values(by='Importance', ascending=False)\n",
    "\n",
    "print(\"Feature Importances:\")\n",
    "print(feature_importances)"
   ]
  },
  {
   "cell_type": "code",
   "execution_count": null,
   "id": "7",
   "metadata": {},
   "outputs": [],
   "source": [
    "# If you want to analyze individual predictions, pick a specific row (e.g., row 0)\n",
    "instance_index = 3\n",
    "shap_values_instance = shap_values[instance_index]"
   ]
  },
  {
   "cell_type": "code",
   "execution_count": null,
   "id": "8",
   "metadata": {},
   "outputs": [],
   "source": [
    "X.iloc[instance_index]"
   ]
  },
  {
   "cell_type": "code",
   "execution_count": null,
   "id": "9",
   "metadata": {},
   "outputs": [],
   "source": [
    "X_transformed_df.iloc[instance_index]"
   ]
  },
  {
   "cell_type": "code",
   "execution_count": null,
   "id": "10",
   "metadata": {},
   "outputs": [],
   "source": [
    "# Create an Explanation object for the individual instance\n",
    "shap_values_instance_explanation = Explanation(\n",
    "    values=shap_values_instance,\n",
    "    base_values=explainer.expected_value,\n",
    "    data=X_transformed_df.iloc[instance_index],\n",
    "    feature_names=X_transformed_df.columns\n",
    ")"
   ]
  },
  {
   "cell_type": "code",
   "execution_count": null,
   "id": "11",
   "metadata": {},
   "outputs": [],
   "source": [
    "print(X_transformed_df.loc[2])"
   ]
  },
  {
   "cell_type": "code",
   "execution_count": null,
   "id": "12",
   "metadata": {},
   "outputs": [],
   "source": [
    "# Plot a SHAP force plot for an individual instance to show the contribution of each feature to the predicted score\n",
    "plt.figure()\n",
    "shap.force_plot(\n",
    "    base_value=shap_values_instance_explanation.base_values,\n",
    "    shap_values=shap_values_instance_explanation.values,\n",
    "    features=shap_values_instance_explanation.data,\n",
    "    feature_names=shap_values_instance_explanation.feature_names,\n",
    "    matplotlib=True\n",
    ")\n",
    "\n",
    "# Plot a SHAP waterfall plot for an individual instance\n",
    "plt.figure()\n",
    "shap.plots.waterfall(shap_values_instance_explanation, max_display=20)\n",
    "\n",
    "# Show the plots\n",
    "plt.show()"
   ]
  },
  {
   "cell_type": "code",
   "execution_count": null,
   "id": "13",
   "metadata": {},
   "outputs": [],
   "source": [
    "X.loc[2]"
   ]
  },
  {
   "cell_type": "code",
   "execution_count": null,
   "id": "14",
   "metadata": {},
   "outputs": [],
   "source": [
    "advert_flags.loc[advert_flags['illegal_activities_prompt']==1, ['illegal_activities_prompt', 'monitor_score']]"
   ]
  },
  {
   "cell_type": "code",
   "execution_count": null,
   "id": "15",
   "metadata": {},
   "outputs": [],
   "source": [
    "instance_index = 3  # Example index\n",
    "\n",
    "print(\"Original value in X:\", X.loc[instance_index, \"gender_specific_prompt\"])\n",
    "print(\"Transformed value in X_transformed_df:\", X_transformed_df.loc[instance_index, \"gender_specific_prompt\"])\n"
   ]
  },
  {
   "cell_type": "code",
   "execution_count": null,
   "id": "16",
   "metadata": {},
   "outputs": [],
   "source": [
    "raw_data = pd.read_csv(\"results/advert_flags.csv\")\n",
    "print(\"Raw data value for gender_specific_prompt:\", raw_data.loc[instance_index, \"gender_specific_prompt\"])\n"
   ]
  },
  {
   "cell_type": "code",
   "execution_count": null,
   "id": "17",
   "metadata": {},
   "outputs": [],
   "source": []
  }
 ],
 "metadata": {
  "kernelspec": {
   "display_name": "Python 3 (ipykernel)",
   "language": "python",
   "name": "python3"
  },
  "language_info": {
   "codemirror_mode": {
    "name": "ipython",
    "version": 3
   },
   "file_extension": ".py",
   "mimetype": "text/x-python",
   "name": "python",
   "nbconvert_exporter": "python",
   "pygments_lexer": "ipython3",
   "version": "3.9.12"
  }
 },
 "nbformat": 4,
 "nbformat_minor": 5
}
